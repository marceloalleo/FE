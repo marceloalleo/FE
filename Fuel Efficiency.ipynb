{
 "cells": [
  {
   "cell_type": "code",
   "execution_count": 1,
   "metadata": {},
   "outputs": [],
   "source": [
    "import pandas as pd\n",
    "import numpy as np\n",
    "from sklearn.linear_model import LinearRegression\n",
    "from sklearn.pipeline import make_pipeline\n",
    "from sklearn.preprocessing import PolynomialFeatures\n",
    "import matplotlib.pyplot as plt\n",
    "import seaborn as sns"
   ]
  },
  {
   "cell_type": "code",
   "execution_count": 2,
   "metadata": {},
   "outputs": [
    {
     "data": {
      "text/plain": [
       "20000"
      ]
     },
     "execution_count": 2,
     "metadata": {},
     "output_type": "execute_result"
    }
   ],
   "source": [
    "dataset = pd.read_csv('dataset.csv')\n",
    "vehicles = list(set(dataset['READING_ID']))\n",
    "len(vehicles)"
   ]
  },
  {
   "cell_type": "code",
   "execution_count": 3,
   "metadata": {},
   "outputs": [],
   "source": [
    "#Vehicle Load\n",
    "def get_GCW (vehicle):\n",
    "    i = 2\n",
    "    GCW_constant = 0\n",
    "    for GCW in dataset[dataset['READING_ID'] == vehicle]['PARAM_VALUE'][2:31]:\n",
    "        GCW_constant += int(GCW)\n",
    "    GCW_power = 0\n",
    "    for GCW in dataset[dataset['READING_ID'] == vehicle]['PARAM_VALUE'][2:31]:\n",
    "        GCW_power += i*int(GCW)\n",
    "        i += 1\n",
    "    return GCW_power/GCW_constant\n",
    "\n",
    "def get_GCW_full (vehicle):\n",
    "    return list(dataset[dataset['READING_ID'] == vehicle]['PARAM_VALUE'][2:31])"
   ]
  },
  {
   "cell_type": "code",
   "execution_count": 4,
   "metadata": {},
   "outputs": [],
   "source": [
    "#Drive Speed\n",
    "def get_DS (vehicle):\n",
    "    return list(dataset[dataset['READING_ID'] == vehicle]['PARAM_VALUE'])[0]\n",
    "\n",
    "def get_SPEED_full (vehicle):\n",
    "    return list(dataset[dataset['READING_ID'] == vehicle]['PARAM_VALUE'][34:55])"
   ]
  },
  {
   "cell_type": "code",
   "execution_count": 5,
   "metadata": {},
   "outputs": [],
   "source": [
    "#Slopes\n",
    "def get_S1 (vehicle):\n",
    "    return list(dataset[dataset['READING_ID'] == vehicle]['PARAM_VALUE'])[31]\n",
    "def get_S2 (vehicle):\n",
    "    return list(dataset[dataset['READING_ID'] == vehicle]['PARAM_VALUE'])[32]\n",
    "def get_S3 (vehicle):\n",
    "    return list(dataset[dataset['READING_ID'] == vehicle]['PARAM_VALUE'])[33]"
   ]
  },
  {
   "cell_type": "code",
   "execution_count": 6,
   "metadata": {},
   "outputs": [],
   "source": [
    "#Fuel Efficiency (Target Variables)\n",
    "def get_FE (vehicle):\n",
    "    return list(dataset[dataset['READING_ID'] == vehicle]['PARAM_VALUE'])[1]"
   ]
  },
  {
   "cell_type": "code",
   "execution_count": 7,
   "metadata": {},
   "outputs": [],
   "source": [
    "inference_dataset = pd.DataFrame(columns = ['FE', 'GCW', 'DS', 'S1', 'S2', 'S3'], index = [vehicles])\n",
    "for vehicle in vehicles:\n",
    "    print('-', end = '')\n",
    "    inference_dataset.loc[vehicle, 'FE']  = get_FE(vehicle)\n",
    "    inference_dataset.loc[vehicle, 'GCW'] = get_GCW(vehicle)\n",
    "    inference_dataset.loc[vehicle, 'DS']  = get_DS(vehicle)\n",
    "    inference_dataset.loc[vehicle, 'S1']  = get_S1(vehicle)\n",
    "    inference_dataset.loc[vehicle, 'S2']  = get_S2(vehicle)\n",
    "    inference_dataset.loc[vehicle, 'S3']  = get_S3(vehicle)"
   ]
  },
  {
   "cell_type": "code",
   "execution_count": 50,
   "metadata": {},
   "outputs": [
    {
     "data": {
      "text/html": [
       "<div>\n",
       "<style scoped>\n",
       "    .dataframe tbody tr th:only-of-type {\n",
       "        vertical-align: middle;\n",
       "    }\n",
       "\n",
       "    .dataframe tbody tr th {\n",
       "        vertical-align: top;\n",
       "    }\n",
       "\n",
       "    .dataframe thead th {\n",
       "        text-align: right;\n",
       "    }\n",
       "</style>\n",
       "<table border=\"1\" class=\"dataframe\">\n",
       "  <thead>\n",
       "    <tr style=\"text-align: right;\">\n",
       "      <th></th>\n",
       "      <th>FE</th>\n",
       "      <th>GCW</th>\n",
       "      <th>DS</th>\n",
       "      <th>S1</th>\n",
       "      <th>S2</th>\n",
       "      <th>S3</th>\n",
       "    </tr>\n",
       "  </thead>\n",
       "  <tbody>\n",
       "    <tr>\n",
       "      <th>0</th>\n",
       "      <td>3.76</td>\n",
       "      <td>13.936842</td>\n",
       "      <td>7.4</td>\n",
       "      <td>7.66</td>\n",
       "      <td>3.81</td>\n",
       "      <td>0.37</td>\n",
       "    </tr>\n",
       "    <tr>\n",
       "      <th>1129447429</th>\n",
       "      <td>3.16</td>\n",
       "      <td>18.666667</td>\n",
       "      <td>5.49</td>\n",
       "      <td>8.0</td>\n",
       "      <td>3.3</td>\n",
       "      <td>0.29</td>\n",
       "    </tr>\n",
       "    <tr>\n",
       "      <th>599392263</th>\n",
       "      <td>3.6</td>\n",
       "      <td>14.442105</td>\n",
       "      <td>5.8</td>\n",
       "      <td>6.48</td>\n",
       "      <td>5.53</td>\n",
       "      <td>0.83</td>\n",
       "    </tr>\n",
       "    <tr>\n",
       "      <th>1132986378</th>\n",
       "      <td>1.54</td>\n",
       "      <td>16.870968</td>\n",
       "      <td>0.86</td>\n",
       "      <td>0.99</td>\n",
       "      <td>3.54</td>\n",
       "      <td>5.96</td>\n",
       "    </tr>\n",
       "    <tr>\n",
       "      <th>1089339403</th>\n",
       "      <td>3.86</td>\n",
       "      <td>14.98913</td>\n",
       "      <td>6.83</td>\n",
       "      <td>7.69</td>\n",
       "      <td>3.73</td>\n",
       "      <td>0.43</td>\n",
       "    </tr>\n",
       "    <tr>\n",
       "      <th>...</th>\n",
       "      <td>...</td>\n",
       "      <td>...</td>\n",
       "      <td>...</td>\n",
       "      <td>...</td>\n",
       "      <td>...</td>\n",
       "      <td>...</td>\n",
       "    </tr>\n",
       "    <tr>\n",
       "      <th>1133248488</th>\n",
       "      <td>3.23</td>\n",
       "      <td>18.234043</td>\n",
       "      <td>6.43</td>\n",
       "      <td>7.73</td>\n",
       "      <td>3.6</td>\n",
       "      <td>0.48</td>\n",
       "    </tr>\n",
       "    <tr>\n",
       "      <th>1134952432</th>\n",
       "      <td>3.03</td>\n",
       "      <td>20.877778</td>\n",
       "      <td>6.2</td>\n",
       "      <td>9.04</td>\n",
       "      <td>1.61</td>\n",
       "      <td>0.1</td>\n",
       "    </tr>\n",
       "    <tr>\n",
       "      <th>1089339381</th>\n",
       "      <td>1.52</td>\n",
       "      <td>15.968085</td>\n",
       "      <td>0.98</td>\n",
       "      <td>4.6</td>\n",
       "      <td>3.23</td>\n",
       "      <td>3.79</td>\n",
       "    </tr>\n",
       "    <tr>\n",
       "      <th>835846135</th>\n",
       "      <td>3.32</td>\n",
       "      <td>18.419355</td>\n",
       "      <td>6.58</td>\n",
       "      <td>7.48</td>\n",
       "      <td>4.07</td>\n",
       "      <td>0.45</td>\n",
       "    </tr>\n",
       "    <tr>\n",
       "      <th>100794364</th>\n",
       "      <td>3.2</td>\n",
       "      <td>18.0</td>\n",
       "      <td>5.61</td>\n",
       "      <td>8.58</td>\n",
       "      <td>2.28</td>\n",
       "      <td>0.26</td>\n",
       "    </tr>\n",
       "  </tbody>\n",
       "</table>\n",
       "<p>20000 rows × 6 columns</p>\n",
       "</div>"
      ],
      "text/plain": [
       "              FE        GCW    DS    S1    S2    S3\n",
       "0           3.76  13.936842   7.4  7.66  3.81  0.37\n",
       "1129447429  3.16  18.666667  5.49   8.0   3.3  0.29\n",
       "599392263    3.6  14.442105   5.8  6.48  5.53  0.83\n",
       "1132986378  1.54  16.870968  0.86  0.99  3.54  5.96\n",
       "1089339403  3.86   14.98913  6.83  7.69  3.73  0.43\n",
       "...          ...        ...   ...   ...   ...   ...\n",
       "1133248488  3.23  18.234043  6.43  7.73   3.6  0.48\n",
       "1134952432  3.03  20.877778   6.2  9.04  1.61   0.1\n",
       "1089339381  1.52  15.968085  0.98   4.6  3.23  3.79\n",
       "835846135   3.32  18.419355  6.58  7.48  4.07  0.45\n",
       "100794364    3.2       18.0  5.61  8.58  2.28  0.26\n",
       "\n",
       "[20000 rows x 6 columns]"
      ]
     },
     "execution_count": 50,
     "metadata": {},
     "output_type": "execute_result"
    }
   ],
   "source": [
    "inference_dataset"
   ]
  },
  {
   "cell_type": "code",
   "execution_count": 339,
   "metadata": {},
   "outputs": [],
   "source": [
    "inference_dataset.to_csv('dataset.csv')"
   ]
  },
  {
   "cell_type": "code",
   "execution_count": 58,
   "metadata": {},
   "outputs": [
    {
     "data": {
      "text/plain": [
       "array([-0.17341003,  0.23337345,  0.13593042, -0.006251  , -0.10599713])"
      ]
     },
     "execution_count": 58,
     "metadata": {},
     "output_type": "execute_result"
    }
   ],
   "source": [
    "x = inference_dataset[['GCW','DS','S1','S2','S3']][0:16000]\n",
    "y = inference_dataset['FE'][0:16000]\n",
    "clf = LinearRegression()\n",
    "clf.fit(x,y)\n",
    "clf.coef_ "
   ]
  },
  {
   "cell_type": "code",
   "execution_count": 59,
   "metadata": {},
   "outputs": [
    {
     "data": {
      "text/plain": [
       "array([2.63721773, 1.39289358, 3.62442535, ..., 1.63119345, 3.25326916,\n",
       "       3.28046947])"
      ]
     },
     "execution_count": 59,
     "metadata": {},
     "output_type": "execute_result"
    }
   ],
   "source": [
    "y_pred = clf.predict(inference_dataset[['GCW','DS','S1','S2','S3']][16000:20001])\n",
    "y_pred"
   ]
  },
  {
   "cell_type": "code",
   "execution_count": 56,
   "metadata": {},
   "outputs": [
    {
     "name": "stdout",
     "output_type": "stream",
     "text": [
      "RMSE Test: 0.08679785440575702\n",
      "SD Test: 0.0889578219170396\n"
     ]
    }
   ],
   "source": [
    "i = 0\n",
    "error_list = []\n",
    "for pred in y_pred:\n",
    "    if list(inference_dataset['FE'])[16000 + i] != 0:\n",
    "        error_list.append(abs((pred - list(inference_dataset['FE'])[16000 + i]))/(list(inference_dataset['FE'])[16000 + i]))\n",
    "        i += 1\n",
    "pred_errors = np.array(error_list)\n",
    "print('RMSE Test:',np.mean(pred_errors))\n",
    "print('SD Test:',np.std(pred_errors))"
   ]
  },
  {
   "cell_type": "code",
   "execution_count": 60,
   "metadata": {},
   "outputs": [
    {
     "name": "stdout",
     "output_type": "stream",
     "text": [
      "RMSE Test: 0.08679785440575696\n"
     ]
    }
   ],
   "source": [
    "i = 0\n",
    "error = 0\n",
    "for pred in y_pred:\n",
    "    if list(inference_dataset['FE'])[16000 + i] != 0:\n",
    "        error += abs(pred - list(inference_dataset['FE'])[16000 + i])/(list(inference_dataset['FE'])[16000 + i])\n",
    "        i += 1\n",
    "print('RMSE Test:',error/i)"
   ]
  },
  {
   "cell_type": "code",
   "execution_count": 57,
   "metadata": {},
   "outputs": [
    {
     "name": "stdout",
     "output_type": "stream",
     "text": [
      "RMSE Train: 0.09263040160535226\n",
      "SD Train: 0.39198064747912564\n"
     ]
    }
   ],
   "source": [
    "y_pred = clf.predict(inference_dataset[['GCW','DS','S1','S2','S3']][0:16000])\n",
    "i = 0\n",
    "error_list = []\n",
    "for pred in y_pred:\n",
    "    if list(inference_dataset['FE'])[i] != 0:\n",
    "        error_list.append(abs((pred - list(inference_dataset['FE'])[i]))/(list(inference_dataset['FE'])[i]))\n",
    "        i += 1\n",
    "pred_errors = np.array(error_list)\n",
    "print('RMSE Train:',np.mean(pred_errors))\n",
    "print('SD Train:',np.std(pred_errors))"
   ]
  },
  {
   "cell_type": "code",
   "execution_count": 389,
   "metadata": {},
   "outputs": [
    {
     "data": {
      "text/plain": [
       "<matplotlib.axes._subplots.AxesSubplot at 0x7f9cd2a80110>"
      ]
     },
     "execution_count": 389,
     "metadata": {},
     "output_type": "execute_result"
    },
    {
     "data": {
      "image/png": "[encoded data removed]",
      "text/plain": [
       "<Figure size 1440x720 with 1 Axes>"
      ]
     },
     "metadata": {},
     "output_type": "display_data"
    }
   ],
   "source": [
    "i = 0\n",
    "error_list = []\n",
    "for pred in y_pred:\n",
    "    if list(inference_dataset['FE'])[16000 + i] != 0:\n",
    "        error_list.append((pred - list(inference_dataset['FE'])[16000 + i])/(list(inference_dataset['FE'])[16000 + i]))\n",
    "        i += 1\n",
    "plt.figure(figsize = [20,10])\n",
    "sns.set(font_scale = 1.5)\n",
    "sns.set_style(\"whitegrid\", {'axes.grid' : False})\n",
    "sns.distplot(error_list, color = 'black')"
   ]
  },
  {
   "cell_type": "code",
   "execution_count": 299,
   "metadata": {},
   "outputs": [],
   "source": [
    "GCW_cols = []\n",
    "for i in range(1,30):\n",
    "    GCW_cols.append('GCW' + str(i))\n",
    "SPEED_cols = []\n",
    "for i in range(1,21):\n",
    "    SPEED_cols.append('SPEED' + str(i))"
   ]
  },
  {
   "cell_type": "code",
   "execution_count": 286,
   "metadata": {},
   "outputs": [
    {
     "name": "stdout",
     "output_type": "stream",
     "text": [
      "382737284\n",
      "65683455\n",
      "1136560058\n",
      "1054252136\n",
      "229429608\n",
      "268098820\n",
      "263381158\n",
      "730919396\n",
      "914173658\n",
      "1133206415\n",
      "139812656\n",
      "188442019\n",
      "270626461\n",
      "898331824\n",
      "51478278\n",
      "1131381225\n",
      "470255168\n",
      "226737411\n",
      "513654929\n",
      "397398499\n",
      "73266901\n",
      "259915194\n"
     ]
    }
   ],
   "source": [
    "inference_dataset_full = pd.DataFrame(columns = ['FE', 'DS', 'S1', 'S2', 'S3'] + GCW_cols + SPEED_cols, index = [vehicles])\n",
    "for vehicle in vehicles:\n",
    "    inference_dataset_full.loc[vehicle, 'FE'] = get_FE(vehicle)\n",
    "    GCW_full = get_GCW_full(vehicle)\n",
    "    for i in range(1,30):\n",
    "        inference_dataset_full.loc[vehicle, 'GCW' + str(i)] = GCW_full[i - 1]\n",
    "    SPEED_full = get_SPEED_full(vehicle)\n",
    "    for i in range(1,21):\n",
    "        try:\n",
    "            inference_dataset_full.loc[vehicle, 'SPEED' + str(i)] = SPEED_full[i - 1]\n",
    "        except:\n",
    "            inference_dataset_full.loc[vehicle, 'SPEED' + str(i)] = 'NA'\n",
    "            print(vehicle)\n",
    "    inference_dataset_full.loc[vehicle, 'S1'] = get_S1(vehicle)\n",
    "    inference_dataset_full.loc[vehicle, 'S2'] = get_S2(vehicle)\n",
    "    inference_dataset_full.loc[vehicle, 'S3'] = get_S3(vehicle)"
   ]
  },
  {
   "cell_type": "code",
   "execution_count": 300,
   "metadata": {},
   "outputs": [
    {
     "data": {
      "text/html": [
       "<div>\n",
       "<style scoped>\n",
       "    .dataframe tbody tr th:only-of-type {\n",
       "        vertical-align: middle;\n",
       "    }\n",
       "\n",
       "    .dataframe tbody tr th {\n",
       "        vertical-align: top;\n",
       "    }\n",
       "\n",
       "    .dataframe thead th {\n",
       "        text-align: right;\n",
       "    }\n",
       "</style>\n",
       "<table border=\"1\" class=\"dataframe\">\n",
       "  <thead>\n",
       "    <tr style=\"text-align: right;\">\n",
       "      <th></th>\n",
       "      <th>FE</th>\n",
       "      <th>DS</th>\n",
       "      <th>S1</th>\n",
       "      <th>S2</th>\n",
       "      <th>S3</th>\n",
       "      <th>GCW1</th>\n",
       "      <th>GCW2</th>\n",
       "      <th>GCW3</th>\n",
       "      <th>GCW4</th>\n",
       "      <th>GCW5</th>\n",
       "      <th>...</th>\n",
       "      <th>SPEED11</th>\n",
       "      <th>SPEED12</th>\n",
       "      <th>SPEED13</th>\n",
       "      <th>SPEED14</th>\n",
       "      <th>SPEED15</th>\n",
       "      <th>SPEED16</th>\n",
       "      <th>SPEED17</th>\n",
       "      <th>SPEED18</th>\n",
       "      <th>SPEED19</th>\n",
       "      <th>SPEED20</th>\n",
       "    </tr>\n",
       "  </thead>\n",
       "  <tbody>\n",
       "    <tr>\n",
       "      <th>0</th>\n",
       "      <td>3.76</td>\n",
       "      <td>NaN</td>\n",
       "      <td>7.66</td>\n",
       "      <td>3.81</td>\n",
       "      <td>0.37</td>\n",
       "      <td>0.0</td>\n",
       "      <td>0.0</td>\n",
       "      <td>1.32</td>\n",
       "      <td>0.0</td>\n",
       "      <td>0.0</td>\n",
       "      <td>...</td>\n",
       "      <td>6.57</td>\n",
       "      <td>5.84</td>\n",
       "      <td>9.85</td>\n",
       "      <td>10.58</td>\n",
       "      <td>20.44</td>\n",
       "      <td>2.92</td>\n",
       "      <td>1.09</td>\n",
       "      <td>0.73</td>\n",
       "      <td>0.36</td>\n",
       "      <td>0.0</td>\n",
       "    </tr>\n",
       "    <tr>\n",
       "      <th>1129447429</th>\n",
       "      <td>3.16</td>\n",
       "      <td>NaN</td>\n",
       "      <td>8.0</td>\n",
       "      <td>3.3</td>\n",
       "      <td>0.29</td>\n",
       "      <td>0.0</td>\n",
       "      <td>0.0</td>\n",
       "      <td>0.59</td>\n",
       "      <td>0.0</td>\n",
       "      <td>0.0</td>\n",
       "      <td>...</td>\n",
       "      <td>10.89</td>\n",
       "      <td>10.62</td>\n",
       "      <td>10.82</td>\n",
       "      <td>0.9</td>\n",
       "      <td>0.06</td>\n",
       "      <td>0.02</td>\n",
       "      <td>0.0</td>\n",
       "      <td>0.0</td>\n",
       "      <td>0.0</td>\n",
       "      <td>0.0</td>\n",
       "    </tr>\n",
       "    <tr>\n",
       "      <th>599392263</th>\n",
       "      <td>3.6</td>\n",
       "      <td>NaN</td>\n",
       "      <td>6.48</td>\n",
       "      <td>5.53</td>\n",
       "      <td>0.83</td>\n",
       "      <td>0.0</td>\n",
       "      <td>0.0</td>\n",
       "      <td>0.65</td>\n",
       "      <td>0.0</td>\n",
       "      <td>0.0</td>\n",
       "      <td>...</td>\n",
       "      <td>14.94</td>\n",
       "      <td>15.76</td>\n",
       "      <td>11.12</td>\n",
       "      <td>0.36</td>\n",
       "      <td>0.0</td>\n",
       "      <td>0.0</td>\n",
       "      <td>0.0</td>\n",
       "      <td>0.0</td>\n",
       "      <td>0.0</td>\n",
       "      <td>0.0</td>\n",
       "    </tr>\n",
       "    <tr>\n",
       "      <th>1132986378</th>\n",
       "      <td>1.54</td>\n",
       "      <td>NaN</td>\n",
       "      <td>0.99</td>\n",
       "      <td>3.54</td>\n",
       "      <td>5.96</td>\n",
       "      <td>0.0</td>\n",
       "      <td>0.0</td>\n",
       "      <td>0.0</td>\n",
       "      <td>0.0</td>\n",
       "      <td>0.4</td>\n",
       "      <td>...</td>\n",
       "      <td>0.24</td>\n",
       "      <td>0.05</td>\n",
       "      <td>0.01</td>\n",
       "      <td>0.0</td>\n",
       "      <td>0.0</td>\n",
       "      <td>0.0</td>\n",
       "      <td>0.0</td>\n",
       "      <td>0.0</td>\n",
       "      <td>0.0</td>\n",
       "      <td>0.0</td>\n",
       "    </tr>\n",
       "    <tr>\n",
       "      <th>1089339403</th>\n",
       "      <td>3.86</td>\n",
       "      <td>NaN</td>\n",
       "      <td>7.69</td>\n",
       "      <td>3.73</td>\n",
       "      <td>0.43</td>\n",
       "      <td>0.0</td>\n",
       "      <td>0.0</td>\n",
       "      <td>1.02</td>\n",
       "      <td>0.0</td>\n",
       "      <td>0.0</td>\n",
       "      <td>...</td>\n",
       "      <td>10.51</td>\n",
       "      <td>11.68</td>\n",
       "      <td>18.7</td>\n",
       "      <td>11.63</td>\n",
       "      <td>3.28</td>\n",
       "      <td>0.42</td>\n",
       "      <td>0.04</td>\n",
       "      <td>0.01</td>\n",
       "      <td>0.0</td>\n",
       "      <td>0.0</td>\n",
       "    </tr>\n",
       "    <tr>\n",
       "      <th>...</th>\n",
       "      <td>...</td>\n",
       "      <td>...</td>\n",
       "      <td>...</td>\n",
       "      <td>...</td>\n",
       "      <td>...</td>\n",
       "      <td>...</td>\n",
       "      <td>...</td>\n",
       "      <td>...</td>\n",
       "      <td>...</td>\n",
       "      <td>...</td>\n",
       "      <td>...</td>\n",
       "      <td>...</td>\n",
       "      <td>...</td>\n",
       "      <td>...</td>\n",
       "      <td>...</td>\n",
       "      <td>...</td>\n",
       "      <td>...</td>\n",
       "      <td>...</td>\n",
       "      <td>...</td>\n",
       "      <td>...</td>\n",
       "      <td>...</td>\n",
       "    </tr>\n",
       "    <tr>\n",
       "      <th>1133248488</th>\n",
       "      <td>3.23</td>\n",
       "      <td>NaN</td>\n",
       "      <td>7.73</td>\n",
       "      <td>3.6</td>\n",
       "      <td>0.48</td>\n",
       "      <td>0.0</td>\n",
       "      <td>0.0</td>\n",
       "      <td>0.06</td>\n",
       "      <td>0.0</td>\n",
       "      <td>0.0</td>\n",
       "      <td>...</td>\n",
       "      <td>7.63</td>\n",
       "      <td>6.76</td>\n",
       "      <td>9.45</td>\n",
       "      <td>7.35</td>\n",
       "      <td>5.48</td>\n",
       "      <td>3.35</td>\n",
       "      <td>1.75</td>\n",
       "      <td>0.89</td>\n",
       "      <td>1.0</td>\n",
       "      <td>0.26</td>\n",
       "    </tr>\n",
       "    <tr>\n",
       "      <th>1134952432</th>\n",
       "      <td>3.03</td>\n",
       "      <td>NaN</td>\n",
       "      <td>9.04</td>\n",
       "      <td>1.61</td>\n",
       "      <td>0.1</td>\n",
       "      <td>0.0</td>\n",
       "      <td>0.0</td>\n",
       "      <td>0.46</td>\n",
       "      <td>0.0</td>\n",
       "      <td>0.0</td>\n",
       "      <td>...</td>\n",
       "      <td>23.05</td>\n",
       "      <td>17.88</td>\n",
       "      <td>3.09</td>\n",
       "      <td>0.16</td>\n",
       "      <td>0.07</td>\n",
       "      <td>0.0</td>\n",
       "      <td>0.0</td>\n",
       "      <td>0.0</td>\n",
       "      <td>0.0</td>\n",
       "      <td>0.0</td>\n",
       "    </tr>\n",
       "    <tr>\n",
       "      <th>1089339381</th>\n",
       "      <td>1.52</td>\n",
       "      <td>NaN</td>\n",
       "      <td>4.6</td>\n",
       "      <td>3.23</td>\n",
       "      <td>3.79</td>\n",
       "      <td>0.0</td>\n",
       "      <td>0.0</td>\n",
       "      <td>0.0</td>\n",
       "      <td>0.0</td>\n",
       "      <td>0.0</td>\n",
       "      <td>...</td>\n",
       "      <td>0.03</td>\n",
       "      <td>0.11</td>\n",
       "      <td>0.0</td>\n",
       "      <td>0.0</td>\n",
       "      <td>0.0</td>\n",
       "      <td>0.0</td>\n",
       "      <td>0.0</td>\n",
       "      <td>0.0</td>\n",
       "      <td>0.0</td>\n",
       "      <td>0.0</td>\n",
       "    </tr>\n",
       "    <tr>\n",
       "      <th>835846135</th>\n",
       "      <td>3.32</td>\n",
       "      <td>NaN</td>\n",
       "      <td>7.48</td>\n",
       "      <td>4.07</td>\n",
       "      <td>0.45</td>\n",
       "      <td>0.0</td>\n",
       "      <td>0.0</td>\n",
       "      <td>0.3</td>\n",
       "      <td>0.0</td>\n",
       "      <td>0.0</td>\n",
       "      <td>...</td>\n",
       "      <td>8.59</td>\n",
       "      <td>7.98</td>\n",
       "      <td>10.51</td>\n",
       "      <td>7.0</td>\n",
       "      <td>4.38</td>\n",
       "      <td>2.39</td>\n",
       "      <td>1.04</td>\n",
       "      <td>0.44</td>\n",
       "      <td>0.27</td>\n",
       "      <td>0.0</td>\n",
       "    </tr>\n",
       "    <tr>\n",
       "      <th>100794364</th>\n",
       "      <td>3.2</td>\n",
       "      <td>NaN</td>\n",
       "      <td>8.58</td>\n",
       "      <td>2.28</td>\n",
       "      <td>0.26</td>\n",
       "      <td>0.0</td>\n",
       "      <td>0.0</td>\n",
       "      <td>1.78</td>\n",
       "      <td>0.0</td>\n",
       "      <td>0.3</td>\n",
       "      <td>...</td>\n",
       "      <td>6.76</td>\n",
       "      <td>5.5</td>\n",
       "      <td>6.71</td>\n",
       "      <td>4.56</td>\n",
       "      <td>3.09</td>\n",
       "      <td>1.74</td>\n",
       "      <td>0.89</td>\n",
       "      <td>0.3</td>\n",
       "      <td>0.23</td>\n",
       "      <td>0.0</td>\n",
       "    </tr>\n",
       "  </tbody>\n",
       "</table>\n",
       "<p>20000 rows × 54 columns</p>\n",
       "</div>"
      ],
      "text/plain": [
       "              FE   DS    S1    S2    S3 GCW1 GCW2  GCW3 GCW4 GCW5  ...  \\\n",
       "0           3.76  NaN  7.66  3.81  0.37  0.0  0.0  1.32  0.0  0.0  ...   \n",
       "1129447429  3.16  NaN   8.0   3.3  0.29  0.0  0.0  0.59  0.0  0.0  ...   \n",
       "599392263    3.6  NaN  6.48  5.53  0.83  0.0  0.0  0.65  0.0  0.0  ...   \n",
       "1132986378  1.54  NaN  0.99  3.54  5.96  0.0  0.0   0.0  0.0  0.4  ...   \n",
       "1089339403  3.86  NaN  7.69  3.73  0.43  0.0  0.0  1.02  0.0  0.0  ...   \n",
       "...          ...  ...   ...   ...   ...  ...  ...   ...  ...  ...  ...   \n",
       "1133248488  3.23  NaN  7.73   3.6  0.48  0.0  0.0  0.06  0.0  0.0  ...   \n",
       "1134952432  3.03  NaN  9.04  1.61   0.1  0.0  0.0  0.46  0.0  0.0  ...   \n",
       "1089339381  1.52  NaN   4.6  3.23  3.79  0.0  0.0   0.0  0.0  0.0  ...   \n",
       "835846135   3.32  NaN  7.48  4.07  0.45  0.0  0.0   0.3  0.0  0.0  ...   \n",
       "100794364    3.2  NaN  8.58  2.28  0.26  0.0  0.0  1.78  0.0  0.3  ...   \n",
       "\n",
       "           SPEED11 SPEED12 SPEED13 SPEED14 SPEED15 SPEED16 SPEED17 SPEED18  \\\n",
       "0             6.57    5.84    9.85   10.58   20.44    2.92    1.09    0.73   \n",
       "1129447429   10.89   10.62   10.82     0.9    0.06    0.02     0.0     0.0   \n",
       "599392263    14.94   15.76   11.12    0.36     0.0     0.0     0.0     0.0   \n",
       "1132986378    0.24    0.05    0.01     0.0     0.0     0.0     0.0     0.0   \n",
       "1089339403   10.51   11.68    18.7   11.63    3.28    0.42    0.04    0.01   \n",
       "...            ...     ...     ...     ...     ...     ...     ...     ...   \n",
       "1133248488    7.63    6.76    9.45    7.35    5.48    3.35    1.75    0.89   \n",
       "1134952432   23.05   17.88    3.09    0.16    0.07     0.0     0.0     0.0   \n",
       "1089339381    0.03    0.11     0.0     0.0     0.0     0.0     0.0     0.0   \n",
       "835846135     8.59    7.98   10.51     7.0    4.38    2.39    1.04    0.44   \n",
       "100794364     6.76     5.5    6.71    4.56    3.09    1.74    0.89     0.3   \n",
       "\n",
       "           SPEED19 SPEED20  \n",
       "0             0.36     0.0  \n",
       "1129447429     0.0     0.0  \n",
       "599392263      0.0     0.0  \n",
       "1132986378     0.0     0.0  \n",
       "1089339403     0.0     0.0  \n",
       "...            ...     ...  \n",
       "1133248488     1.0    0.26  \n",
       "1134952432     0.0     0.0  \n",
       "1089339381     0.0     0.0  \n",
       "835846135     0.27     0.0  \n",
       "100794364     0.23     0.0  \n",
       "\n",
       "[20000 rows x 54 columns]"
      ]
     },
     "execution_count": 300,
     "metadata": {},
     "output_type": "execute_result"
    }
   ],
   "source": [
    "inference_dataset_full"
   ]
  },
  {
   "cell_type": "code",
   "execution_count": 303,
   "metadata": {},
   "outputs": [],
   "source": [
    "inference_dataset_full.to_csv('dataset_full.csv')"
   ]
  },
  {
   "cell_type": "code",
   "execution_count": 304,
   "metadata": {},
   "outputs": [
    {
     "data": {
      "text/html": [
       "<div>\n",
       "<style scoped>\n",
       "    .dataframe tbody tr th:only-of-type {\n",
       "        vertical-align: middle;\n",
       "    }\n",
       "\n",
       "    .dataframe tbody tr th {\n",
       "        vertical-align: top;\n",
       "    }\n",
       "\n",
       "    .dataframe thead th {\n",
       "        text-align: right;\n",
       "    }\n",
       "</style>\n",
       "<table border=\"1\" class=\"dataframe\">\n",
       "  <thead>\n",
       "    <tr style=\"text-align: right;\">\n",
       "      <th></th>\n",
       "      <th>READING_ID</th>\n",
       "      <th>PARAMETER</th>\n",
       "      <th>IDX</th>\n",
       "      <th>PARAM_VALUE</th>\n",
       "    </tr>\n",
       "  </thead>\n",
       "  <tbody>\n",
       "    <tr>\n",
       "      <th>0</th>\n",
       "      <td>0</td>\n",
       "      <td>DRIVE_SPEED</td>\n",
       "      <td>0</td>\n",
       "      <td>7.40</td>\n",
       "    </tr>\n",
       "    <tr>\n",
       "      <th>1</th>\n",
       "      <td>0</td>\n",
       "      <td>FUEL_EFF</td>\n",
       "      <td>0</td>\n",
       "      <td>3.76</td>\n",
       "    </tr>\n",
       "    <tr>\n",
       "      <th>2</th>\n",
       "      <td>0</td>\n",
       "      <td>GCW</td>\n",
       "      <td>1</td>\n",
       "      <td>0.00</td>\n",
       "    </tr>\n",
       "    <tr>\n",
       "      <th>3</th>\n",
       "      <td>0</td>\n",
       "      <td>GCW</td>\n",
       "      <td>2</td>\n",
       "      <td>0.00</td>\n",
       "    </tr>\n",
       "    <tr>\n",
       "      <th>4</th>\n",
       "      <td>0</td>\n",
       "      <td>GCW</td>\n",
       "      <td>3</td>\n",
       "      <td>1.32</td>\n",
       "    </tr>\n",
       "    <tr>\n",
       "      <th>...</th>\n",
       "      <td>...</td>\n",
       "      <td>...</td>\n",
       "      <td>...</td>\n",
       "      <td>...</td>\n",
       "    </tr>\n",
       "    <tr>\n",
       "      <th>1079973</th>\n",
       "      <td>1136807896</td>\n",
       "      <td>SPEED</td>\n",
       "      <td>16</td>\n",
       "      <td>1.49</td>\n",
       "    </tr>\n",
       "    <tr>\n",
       "      <th>1079974</th>\n",
       "      <td>1136807896</td>\n",
       "      <td>SPEED</td>\n",
       "      <td>17</td>\n",
       "      <td>1.18</td>\n",
       "    </tr>\n",
       "    <tr>\n",
       "      <th>1079975</th>\n",
       "      <td>1136807896</td>\n",
       "      <td>SPEED</td>\n",
       "      <td>18</td>\n",
       "      <td>0.69</td>\n",
       "    </tr>\n",
       "    <tr>\n",
       "      <th>1079976</th>\n",
       "      <td>1136807896</td>\n",
       "      <td>SPEED</td>\n",
       "      <td>19</td>\n",
       "      <td>0.56</td>\n",
       "    </tr>\n",
       "    <tr>\n",
       "      <th>1079977</th>\n",
       "      <td>1136807896</td>\n",
       "      <td>SPEED</td>\n",
       "      <td>20</td>\n",
       "      <td>0.05</td>\n",
       "    </tr>\n",
       "  </tbody>\n",
       "</table>\n",
       "<p>1079978 rows × 4 columns</p>\n",
       "</div>"
      ],
      "text/plain": [
       "         READING_ID    PARAMETER  IDX  PARAM_VALUE\n",
       "0                 0  DRIVE_SPEED    0         7.40\n",
       "1                 0     FUEL_EFF    0         3.76\n",
       "2                 0          GCW    1         0.00\n",
       "3                 0          GCW    2         0.00\n",
       "4                 0          GCW    3         1.32\n",
       "...             ...          ...  ...          ...\n",
       "1079973  1136807896        SPEED   16         1.49\n",
       "1079974  1136807896        SPEED   17         1.18\n",
       "1079975  1136807896        SPEED   18         0.69\n",
       "1079976  1136807896        SPEED   19         0.56\n",
       "1079977  1136807896        SPEED   20         0.05\n",
       "\n",
       "[1079978 rows x 4 columns]"
      ]
     },
     "execution_count": 304,
     "metadata": {},
     "output_type": "execute_result"
    }
   ],
   "source": [
    "dataset"
   ]
  },
  {
   "cell_type": "code",
   "execution_count": 327,
   "metadata": {},
   "outputs": [
    {
     "data": {
      "text/plain": [
       "[<matplotlib.lines.Line2D at 0x7f9ca520df50>]"
      ]
     },
     "execution_count": 327,
     "metadata": {},
     "output_type": "execute_result"
    },
    {
     "data": {
      "image/png": "[encoded data removed]",
      "text/plain": [
       "<Figure size 1440x720 with 1 Axes>"
      ]
     },
     "metadata": {
      "needs_background": "light"
     },
     "output_type": "display_data"
    }
   ],
   "source": [
    "plt.figure(figsize = [20,10])\n",
    "plt.plot(list(get_GCW_full(vehicles[0])), color = 'black')"
   ]
  },
  {
   "cell_type": "code",
   "execution_count": 330,
   "metadata": {},
   "outputs": [
    {
     "data": {
      "text/plain": [
       "13.936842105263159"
      ]
     },
     "execution_count": 330,
     "metadata": {},
     "output_type": "execute_result"
    }
   ],
   "source": [
    "get_GCW(vehicles[0])"
   ]
  },
  {
   "cell_type": "code",
   "execution_count": 47,
   "metadata": {},
   "outputs": [
    {
     "data": {
      "text/plain": [
       "Text(0.5, 0, 'S3')"
      ]
     },
     "execution_count": 47,
     "metadata": {},
     "output_type": "execute_result"
    },
    {
     "data": {
      "image/png": "[encoded data removed]",
      "text/plain": [
       "<Figure size 1440x720 with 1 Axes>"
      ]
     },
     "metadata": {},
     "output_type": "display_data"
    }
   ],
   "source": [
    "plt.figure(figsize = [20,10])\n",
    "plt.scatter(inference_dataset['S3'], inference_dataset['FE'], color = 'black')\n",
    "plt.xlabel('S3')"
   ]
  },
  {
   "cell_type": "code",
   "execution_count": 40,
   "metadata": {},
   "outputs": [
    {
     "data": {
      "text/plain": [
       "<matplotlib.axes._subplots.AxesSubplot at 0x7f7e8a87bb90>"
      ]
     },
     "execution_count": 40,
     "metadata": {},
     "output_type": "execute_result"
    },
    {
     "data": {
      "image/png": "[encoded data removed]",
      "text/plain": [
       "<Figure size 1440x720 with 1 Axes>"
      ]
     },
     "metadata": {},
     "output_type": "display_data"
    }
   ],
   "source": [
    "plt.figure(figsize = [20,10])\n",
    "sns.set(font_scale = 2)\n",
    "sns.set_style(\"whitegrid\", {'axes.grid' : False})\n",
    "sns.distplot(inference_dataset['S1'], color = 'black')"
   ]
  },
  {
   "cell_type": "code",
   "execution_count": null,
   "metadata": {},
   "outputs": [],
   "source": []
  }
 ],
 "metadata": {
  "kernelspec": {
   "display_name": "Python 3",
   "language": "python",
   "name": "python3"
  },
  "language_info": {
   "codemirror_mode": {
    "name": "ipython",
    "version": 3
   },
   "file_extension": ".py",
   "mimetype": "text/x-python",
   "name": "python",
   "nbconvert_exporter": "python",
   "pygments_lexer": "ipython3",
   "version": "3.7.6"
  }
 },
 "nbformat": 4,
 "nbformat_minor": 4
}
